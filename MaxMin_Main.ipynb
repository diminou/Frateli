{
 "cells": [
  {
   "cell_type": "code",
   "execution_count": 20,
   "metadata": {},
   "outputs": [
    {
     "name": "stdout",
     "output_type": "stream",
     "text": [
      "Affinity matrix: [T x S]\n",
      "[[  5.  15.   4.   8.   5.  12.   3.   8.   6.   3.  10.   7.   3.  15.\n",
      "   13.]\n",
      " [  8.  13.  11.  12.  11.  22.   5.   7.   8.  18.  18.  14.  12.  12.\n",
      "   24.]\n",
      " [  8.  13.   6.  17.   8.  17.   5.  10.  11.  10.  12.  14.   9.  17.\n",
      "   19.]\n",
      " [ 16.  16.  10.  10.  10.  15.   9.   9.   6.   5.  20.   8.   8.  11.\n",
      "   19.]\n",
      " [ 10.  20.   8.   7.  15.  21.   4.  11.   4.   9.  13.  17.  10.  14.\n",
      "   16.]\n",
      " [  9.   7.   7.  18.  11.  10.   9.   2.   5.   9.  30.  11.  12.  10.\n",
      "   15.]\n",
      " [ 15.  13.   6.   7.  13.  17.   4.   5.   6.   7.  16.   5.   8.   8.\n",
      "    4.]\n",
      " [ 11.  19.  10.   6.  15.  24.   2.   5.   7.   5.  11.   8.   6.   7.\n",
      "    8.]\n",
      " [ 10.  16.   7.  14.  11.  11.   4.   8.   6.  11.  15.   6.   8.  12.\n",
      "   15.]\n",
      " [ 11.  11.   5.   6.  12.  14.   8.   3.   6.   7.  19.   4.   4.   7.\n",
      "   16.]]\n",
      "\n",
      "n. students per tutor:\n",
      "[4 6 5 2 3 3 2 5 2 6]\n"
     ]
    }
   ],
   "source": [
    "import MaxMin_library as mm\n",
    "import numpy as np\n",
    "import warnings\n",
    "#import pdb; pdb.set_trace()\n",
    "\n",
    "#np.random.seed(1253)\n",
    "\n",
    "S = 15 # n. students\n",
    "T = 10 # n. tutors\n",
    "n_subjects = 20\n",
    "n_different_values = 30\n",
    "n_students_per_tutor = np.random.randint(low=S/T+1, high=3*(S/T+1)+1, size=T)\n",
    "\n",
    "mm.check_input_consistency(S, T, n_students_per_tutor, n_subjects)\n",
    "\n",
    "Affinity = mm.generateAffinity(S, T, n_subjects, n_different_values)\n",
    "\n",
    "print(\"Affinity matrix: [T x S]\")\n",
    "print(Affinity)\n",
    "\n",
    "print(\"\\nn. students per tutor:\")\n",
    "print(n_students_per_tutor)\n"
   ]
  },
  {
   "cell_type": "code",
   "execution_count": 22,
   "metadata": {},
   "outputs": [
    {
     "name": "stdout",
     "output_type": "stream",
     "text": [
      "Iterative Max-Min student-tutor assignment\n",
      "final_assignment[student] = list of (tutor, affinity) assigned to her\n"
     ]
    },
    {
     "data": {
      "text/plain": [
       "[[(0, 5.0), (1, 8.0), (7, 11.0)],\n",
       " [(7, 19.0), (2, 13.0)],\n",
       " [(3, 10.0), (4, 8.0), (9, 5.0)],\n",
       " [(0, 8.0), (5, 18.0), (7, 6.0)],\n",
       " [(0, 5.0), (5, 11.0)],\n",
       " [(1, 22.0), (4, 21.0)],\n",
       " [(1, 5.0), (2, 5.0)],\n",
       " [(3, 9.0), (6, 5.0), (9, 3.0)],\n",
       " [(1, 8.0), (5, 5.0), (9, 6.0)],\n",
       " [(2, 10.0), (8, 11.0), (9, 7.0)],\n",
       " [(2, 12.0), (7, 11.0), (9, 19.0)],\n",
       " [(1, 14.0), (6, 5.0), (9, 4.0)],\n",
       " [(1, 12.0), (8, 8.0)],\n",
       " [(0, 15.0), (4, 14.0)],\n",
       " [(2, 19.0), (7, 8.0)]]"
      ]
     },
     "execution_count": 22,
     "metadata": {},
     "output_type": "execute_result"
    }
   ],
   "source": [
    "\n",
    "final_assignment = mm.MaxMinStudentTutorAssignment(Affinity, n_students_per_tutor)\n",
    "\n",
    "print(\"Iterative Max-Min student-tutor assignment\")\n",
    "print(\"final_assignment[student] = list of (tutor, affinity) assigned to her\")\n",
    "final_assignment\n"
   ]
  },
  {
   "cell_type": "code",
   "execution_count": null,
   "metadata": {
    "collapsed": true
   },
   "outputs": [],
   "source": []
  }
 ],
 "metadata": {
  "kernelspec": {
   "display_name": "Python 2",
   "language": "python",
   "name": "python2"
  },
  "language_info": {
   "codemirror_mode": {
    "name": "ipython",
    "version": 2
   },
   "file_extension": ".py",
   "mimetype": "text/x-python",
   "name": "python",
   "nbconvert_exporter": "python",
   "pygments_lexer": "ipython2",
   "version": "2.7.14"
  }
 },
 "nbformat": 4,
 "nbformat_minor": 2
}
